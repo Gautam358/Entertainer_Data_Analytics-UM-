{
 "cells": [
  {
   "cell_type": "code",
   "execution_count": 2,
   "metadata": {},
   "outputs": [],
   "source": [
    "import numpy as np\n",
    "import pandas as pd\n",
    "import matplotlib.pyplot as plt\n",
    "import os\n",
    "import seaborn as sns"
   ]
  },
  {
   "cell_type": "code",
   "execution_count": 3,
   "metadata": {},
   "outputs": [],
   "source": [
    "os.getcwd()\n",
    "os.chdir('E:/Project_files')"
   ]
  },
  {
   "cell_type": "code",
   "execution_count": 4,
   "metadata": {},
   "outputs": [
    {
     "data": {
      "text/plain": [
       "'E:\\\\Project_files'"
      ]
     },
     "execution_count": 4,
     "metadata": {},
     "output_type": "execute_result"
    }
   ],
   "source": [
    "os.getcwd()"
   ]
  },
  {
   "cell_type": "markdown",
   "metadata": {},
   "source": [
    "Imported the three excel and merge them in one single file using merge"
   ]
  },
  {
   "cell_type": "code",
   "execution_count": 5,
   "metadata": {},
   "outputs": [
    {
     "data": {
      "text/html": [
       "<div>\n",
       "<style scoped>\n",
       "    .dataframe tbody tr th:only-of-type {\n",
       "        vertical-align: middle;\n",
       "    }\n",
       "\n",
       "    .dataframe tbody tr th {\n",
       "        vertical-align: top;\n",
       "    }\n",
       "\n",
       "    .dataframe thead th {\n",
       "        text-align: right;\n",
       "    }\n",
       "</style>\n",
       "<table border=\"1\" class=\"dataframe\">\n",
       "  <thead>\n",
       "    <tr style=\"text-align: right;\">\n",
       "      <th></th>\n",
       "      <th>Entertainer</th>\n",
       "      <th>Gender (traditional)</th>\n",
       "      <th>Birth Year</th>\n",
       "    </tr>\n",
       "  </thead>\n",
       "  <tbody>\n",
       "    <tr>\n",
       "      <th>0</th>\n",
       "      <td>Adele</td>\n",
       "      <td>F</td>\n",
       "      <td>1988</td>\n",
       "    </tr>\n",
       "    <tr>\n",
       "      <th>1</th>\n",
       "      <td>Angelina Jolie</td>\n",
       "      <td>F</td>\n",
       "      <td>1975</td>\n",
       "    </tr>\n",
       "    <tr>\n",
       "      <th>2</th>\n",
       "      <td>Aretha Franklin</td>\n",
       "      <td>F</td>\n",
       "      <td>1942</td>\n",
       "    </tr>\n",
       "    <tr>\n",
       "      <th>3</th>\n",
       "      <td>Bette Davis</td>\n",
       "      <td>F</td>\n",
       "      <td>1908</td>\n",
       "    </tr>\n",
       "    <tr>\n",
       "      <th>4</th>\n",
       "      <td>Betty White</td>\n",
       "      <td>F</td>\n",
       "      <td>1922</td>\n",
       "    </tr>\n",
       "  </tbody>\n",
       "</table>\n",
       "</div>"
      ],
      "text/plain": [
       "       Entertainer Gender (traditional)  Birth Year\n",
       "0            Adele                    F        1988\n",
       "1   Angelina Jolie                    F        1975\n",
       "2  Aretha Franklin                    F        1942\n",
       "3      Bette Davis                    F        1908\n",
       "4      Betty White                    F        1922"
      ]
     },
     "execution_count": 5,
     "metadata": {},
     "output_type": "execute_result"
    }
   ],
   "source": [
    "entertainer_basis = pd.read_excel('E:/Project_files/Entertainer_Basic_Info.xlsx', header= 0)\n",
    "entertainer_basis.head()"
   ]
  },
  {
   "cell_type": "code",
   "execution_count": 6,
   "metadata": {},
   "outputs": [
    {
     "data": {
      "text/html": [
       "<div>\n",
       "<style scoped>\n",
       "    .dataframe tbody tr th:only-of-type {\n",
       "        vertical-align: middle;\n",
       "    }\n",
       "\n",
       "    .dataframe tbody tr th {\n",
       "        vertical-align: top;\n",
       "    }\n",
       "\n",
       "    .dataframe thead th {\n",
       "        text-align: right;\n",
       "    }\n",
       "</style>\n",
       "<table border=\"1\" class=\"dataframe\">\n",
       "  <thead>\n",
       "    <tr style=\"text-align: right;\">\n",
       "      <th></th>\n",
       "      <th>Entertainer</th>\n",
       "      <th>Year of Last Major Work (arguable)</th>\n",
       "      <th>Year of Death</th>\n",
       "    </tr>\n",
       "  </thead>\n",
       "  <tbody>\n",
       "    <tr>\n",
       "      <th>0</th>\n",
       "      <td>Adele</td>\n",
       "      <td>2016</td>\n",
       "      <td>NaN</td>\n",
       "    </tr>\n",
       "    <tr>\n",
       "      <th>1</th>\n",
       "      <td>Angelina Jolie</td>\n",
       "      <td>2016</td>\n",
       "      <td>NaN</td>\n",
       "    </tr>\n",
       "    <tr>\n",
       "      <th>2</th>\n",
       "      <td>Aretha Franklin</td>\n",
       "      <td>2014</td>\n",
       "      <td>NaN</td>\n",
       "    </tr>\n",
       "    <tr>\n",
       "      <th>3</th>\n",
       "      <td>Bette Davis</td>\n",
       "      <td>1989</td>\n",
       "      <td>1989.0</td>\n",
       "    </tr>\n",
       "    <tr>\n",
       "      <th>4</th>\n",
       "      <td>Betty White</td>\n",
       "      <td>2016</td>\n",
       "      <td>NaN</td>\n",
       "    </tr>\n",
       "  </tbody>\n",
       "</table>\n",
       "</div>"
      ],
      "text/plain": [
       "       Entertainer  Year of Last Major Work (arguable)  Year of Death\n",
       "0            Adele                                2016            NaN\n",
       "1   Angelina Jolie                                2016            NaN\n",
       "2  Aretha Franklin                                2014            NaN\n",
       "3      Bette Davis                                1989         1989.0\n",
       "4      Betty White                                2016            NaN"
      ]
     },
     "execution_count": 6,
     "metadata": {},
     "output_type": "execute_result"
    }
   ],
   "source": [
    "entertainer_last_work = pd.read_excel('E:/Project_files/Entertainer_Last_work_Info.xlsx', header= 0)\n",
    "entertainer_last_work.head()"
   ]
  },
  {
   "cell_type": "code",
   "execution_count": 7,
   "metadata": {},
   "outputs": [
    {
     "data": {
      "text/html": [
       "<div>\n",
       "<style scoped>\n",
       "    .dataframe tbody tr th:only-of-type {\n",
       "        vertical-align: middle;\n",
       "    }\n",
       "\n",
       "    .dataframe tbody tr th {\n",
       "        vertical-align: top;\n",
       "    }\n",
       "\n",
       "    .dataframe thead th {\n",
       "        text-align: right;\n",
       "    }\n",
       "</style>\n",
       "<table border=\"1\" class=\"dataframe\">\n",
       "  <thead>\n",
       "    <tr style=\"text-align: right;\">\n",
       "      <th></th>\n",
       "      <th>Entertainer</th>\n",
       "      <th>Year of Breakthrough/#1 Hit/Award Nomination</th>\n",
       "      <th>Breakthrough Name</th>\n",
       "      <th>Year of First Oscar/Grammy/Emmy</th>\n",
       "    </tr>\n",
       "  </thead>\n",
       "  <tbody>\n",
       "    <tr>\n",
       "      <th>0</th>\n",
       "      <td>Adele</td>\n",
       "      <td>2008</td>\n",
       "      <td>19</td>\n",
       "      <td>2009.0</td>\n",
       "    </tr>\n",
       "    <tr>\n",
       "      <th>1</th>\n",
       "      <td>Angelina Jolie</td>\n",
       "      <td>1999</td>\n",
       "      <td>Girl, Interrupted</td>\n",
       "      <td>1999.0</td>\n",
       "    </tr>\n",
       "    <tr>\n",
       "      <th>2</th>\n",
       "      <td>Aretha Franklin</td>\n",
       "      <td>1967</td>\n",
       "      <td>I Never Loved a Man (The Way I Love You)</td>\n",
       "      <td>1968.0</td>\n",
       "    </tr>\n",
       "    <tr>\n",
       "      <th>3</th>\n",
       "      <td>Bette Davis</td>\n",
       "      <td>1934</td>\n",
       "      <td>Of Human Bondage</td>\n",
       "      <td>1935.0</td>\n",
       "    </tr>\n",
       "    <tr>\n",
       "      <th>4</th>\n",
       "      <td>Betty White</td>\n",
       "      <td>1952</td>\n",
       "      <td>Life with Elilzabeth</td>\n",
       "      <td>1976.0</td>\n",
       "    </tr>\n",
       "  </tbody>\n",
       "</table>\n",
       "</div>"
      ],
      "text/plain": [
       "       Entertainer  Year of Breakthrough/#1 Hit/Award Nomination  \\\n",
       "0            Adele                                          2008   \n",
       "1   Angelina Jolie                                          1999   \n",
       "2  Aretha Franklin                                          1967   \n",
       "3      Bette Davis                                          1934   \n",
       "4      Betty White                                          1952   \n",
       "\n",
       "                          Breakthrough Name  Year of First Oscar/Grammy/Emmy  \n",
       "0                                        19                           2009.0  \n",
       "1                         Girl, Interrupted                           1999.0  \n",
       "2  I Never Loved a Man (The Way I Love You)                           1968.0  \n",
       "3                          Of Human Bondage                           1935.0  \n",
       "4                      Life with Elilzabeth                           1976.0  "
      ]
     },
     "execution_count": 7,
     "metadata": {},
     "output_type": "execute_result"
    }
   ],
   "source": [
    "entertainer_Breakthrough_Info = pd.read_excel('E:/Project_files/Entertainer_Breakthrough_Info.xlsx', header= 0)\n",
    "entertainer_Breakthrough_Info.head()"
   ]
  },
  {
   "cell_type": "markdown",
   "metadata": {},
   "source": [
    "Found, how many rows and columns are there"
   ]
  },
  {
   "cell_type": "code",
   "execution_count": 8,
   "metadata": {},
   "outputs": [
    {
     "data": {
      "text/plain": [
       "(70, 4)"
      ]
     },
     "execution_count": 8,
     "metadata": {},
     "output_type": "execute_result"
    }
   ],
   "source": [
    "entertainer_Breakthrough_Info.shape"
   ]
  },
  {
   "cell_type": "code",
   "execution_count": 9,
   "metadata": {},
   "outputs": [],
   "source": [
    "entertainer = pd.merge(entertainer_basis, entertainer_Breakthrough_Info, on='Entertainer', how='outer')\n",
    "entertainer = pd.merge(entertainer, entertainer_last_work, on='Entertainer', how='outer')"
   ]
  },
  {
   "cell_type": "code",
   "execution_count": 10,
   "metadata": {},
   "outputs": [
    {
     "data": {
      "text/plain": [
       "(70, 8)"
      ]
     },
     "execution_count": 10,
     "metadata": {},
     "output_type": "execute_result"
    }
   ],
   "source": [
    "entertainer.shape"
   ]
  },
  {
   "cell_type": "code",
   "execution_count": 11,
   "metadata": {},
   "outputs": [
    {
     "data": {
      "text/html": [
       "<div>\n",
       "<style scoped>\n",
       "    .dataframe tbody tr th:only-of-type {\n",
       "        vertical-align: middle;\n",
       "    }\n",
       "\n",
       "    .dataframe tbody tr th {\n",
       "        vertical-align: top;\n",
       "    }\n",
       "\n",
       "    .dataframe thead th {\n",
       "        text-align: right;\n",
       "    }\n",
       "</style>\n",
       "<table border=\"1\" class=\"dataframe\">\n",
       "  <thead>\n",
       "    <tr style=\"text-align: right;\">\n",
       "      <th></th>\n",
       "      <th>Entertainer</th>\n",
       "      <th>Gender (traditional)</th>\n",
       "      <th>Birth Year</th>\n",
       "      <th>Year of Breakthrough/#1 Hit/Award Nomination</th>\n",
       "      <th>Breakthrough Name</th>\n",
       "      <th>Year of First Oscar/Grammy/Emmy</th>\n",
       "      <th>Year of Last Major Work (arguable)</th>\n",
       "      <th>Year of Death</th>\n",
       "    </tr>\n",
       "  </thead>\n",
       "  <tbody>\n",
       "    <tr>\n",
       "      <th>0</th>\n",
       "      <td>Adele</td>\n",
       "      <td>F</td>\n",
       "      <td>1988</td>\n",
       "      <td>2008</td>\n",
       "      <td>19</td>\n",
       "      <td>2009.0</td>\n",
       "      <td>2016</td>\n",
       "      <td>NaN</td>\n",
       "    </tr>\n",
       "    <tr>\n",
       "      <th>1</th>\n",
       "      <td>Angelina Jolie</td>\n",
       "      <td>F</td>\n",
       "      <td>1975</td>\n",
       "      <td>1999</td>\n",
       "      <td>Girl, Interrupted</td>\n",
       "      <td>1999.0</td>\n",
       "      <td>2016</td>\n",
       "      <td>NaN</td>\n",
       "    </tr>\n",
       "    <tr>\n",
       "      <th>2</th>\n",
       "      <td>Aretha Franklin</td>\n",
       "      <td>F</td>\n",
       "      <td>1942</td>\n",
       "      <td>1967</td>\n",
       "      <td>I Never Loved a Man (The Way I Love You)</td>\n",
       "      <td>1968.0</td>\n",
       "      <td>2014</td>\n",
       "      <td>NaN</td>\n",
       "    </tr>\n",
       "    <tr>\n",
       "      <th>3</th>\n",
       "      <td>Bette Davis</td>\n",
       "      <td>F</td>\n",
       "      <td>1908</td>\n",
       "      <td>1934</td>\n",
       "      <td>Of Human Bondage</td>\n",
       "      <td>1935.0</td>\n",
       "      <td>1989</td>\n",
       "      <td>1989.0</td>\n",
       "    </tr>\n",
       "    <tr>\n",
       "      <th>4</th>\n",
       "      <td>Betty White</td>\n",
       "      <td>F</td>\n",
       "      <td>1922</td>\n",
       "      <td>1952</td>\n",
       "      <td>Life with Elilzabeth</td>\n",
       "      <td>1976.0</td>\n",
       "      <td>2016</td>\n",
       "      <td>NaN</td>\n",
       "    </tr>\n",
       "  </tbody>\n",
       "</table>\n",
       "</div>"
      ],
      "text/plain": [
       "       Entertainer Gender (traditional)  Birth Year  \\\n",
       "0            Adele                    F        1988   \n",
       "1   Angelina Jolie                    F        1975   \n",
       "2  Aretha Franklin                    F        1942   \n",
       "3      Bette Davis                    F        1908   \n",
       "4      Betty White                    F        1922   \n",
       "\n",
       "   Year of Breakthrough/#1 Hit/Award Nomination  \\\n",
       "0                                          2008   \n",
       "1                                          1999   \n",
       "2                                          1967   \n",
       "3                                          1934   \n",
       "4                                          1952   \n",
       "\n",
       "                          Breakthrough Name  Year of First Oscar/Grammy/Emmy  \\\n",
       "0                                        19                           2009.0   \n",
       "1                         Girl, Interrupted                           1999.0   \n",
       "2  I Never Loved a Man (The Way I Love You)                           1968.0   \n",
       "3                          Of Human Bondage                           1935.0   \n",
       "4                      Life with Elilzabeth                           1976.0   \n",
       "\n",
       "   Year of Last Major Work (arguable)  Year of Death  \n",
       "0                                2016            NaN  \n",
       "1                                2016            NaN  \n",
       "2                                2014            NaN  \n",
       "3                                1989         1989.0  \n",
       "4                                2016            NaN  "
      ]
     },
     "execution_count": 11,
     "metadata": {},
     "output_type": "execute_result"
    }
   ],
   "source": [
    "entertainer.head()"
   ]
  },
  {
   "cell_type": "markdown",
   "metadata": {},
   "source": [
    "Checked Duplicate values to maintain data integrity"
   ]
  },
  {
   "cell_type": "code",
   "execution_count": 12,
   "metadata": {},
   "outputs": [
    {
     "data": {
      "text/plain": [
       "0"
      ]
     },
     "execution_count": 12,
     "metadata": {},
     "output_type": "execute_result"
    }
   ],
   "source": [
    "entertainer.duplicated().sum()"
   ]
  },
  {
   "cell_type": "markdown",
   "metadata": {},
   "source": [
    "Checked na values to maintain data quality"
   ]
  },
  {
   "cell_type": "code",
   "execution_count": 13,
   "metadata": {},
   "outputs": [
    {
     "data": {
      "text/plain": [
       "Entertainer                                      0\n",
       "Gender (traditional)                             0\n",
       "Birth Year                                       0\n",
       "Year of Breakthrough/#1 Hit/Award Nomination     0\n",
       "Breakthrough Name                                0\n",
       "Year of First Oscar/Grammy/Emmy                  6\n",
       "Year of Last Major Work (arguable)               0\n",
       "Year of Death                                   40\n",
       "dtype: int64"
      ]
     },
     "execution_count": 13,
     "metadata": {},
     "output_type": "execute_result"
    }
   ],
   "source": [
    "entertainer.isna().sum()"
   ]
  },
  {
   "cell_type": "markdown",
   "metadata": {},
   "source": [
    "As you can see there are 40 nan values in year of death and 6 nan values in Year of first award"
   ]
  },
  {
   "cell_type": "markdown",
   "metadata": {},
   "source": [
    "Check data types of all columns"
   ]
  },
  {
   "cell_type": "code",
   "execution_count": 14,
   "metadata": {},
   "outputs": [
    {
     "data": {
      "text/plain": [
       "Entertainer                                      object\n",
       "Gender (traditional)                             object\n",
       "Birth Year                                        int64\n",
       "Year of Breakthrough/#1 Hit/Award Nomination      int64\n",
       "Breakthrough Name                                object\n",
       "Year of First Oscar/Grammy/Emmy                 float64\n",
       "Year of Last Major Work (arguable)                int64\n",
       "Year of Death                                   float64\n",
       "dtype: object"
      ]
     },
     "execution_count": 14,
     "metadata": {},
     "output_type": "execute_result"
    }
   ],
   "source": [
    "entertainer.dtypes"
   ]
  },
  {
   "cell_type": "markdown",
   "metadata": {},
   "source": [
    "Rename the columns to get better understanding"
   ]
  },
  {
   "cell_type": "code",
   "execution_count": 15,
   "metadata": {},
   "outputs": [],
   "source": [
    "entertainer.rename(columns= {'Gender (traditional)' : 'Gender', 'Year of Breakthrough/#1 Hit/Award Nomination': 'Year of Hit Album',\n",
    "                             'Breakthrough Name': 'Album name', 'Year of First Oscar/Grammy/Emmy':'Year of first award',\n",
    "                             'Year of Last Major Work (arguable)':'Year of last work'}, inplace= True)"
   ]
  },
  {
   "cell_type": "code",
   "execution_count": 16,
   "metadata": {},
   "outputs": [
    {
     "data": {
      "text/html": [
       "<div>\n",
       "<style scoped>\n",
       "    .dataframe tbody tr th:only-of-type {\n",
       "        vertical-align: middle;\n",
       "    }\n",
       "\n",
       "    .dataframe tbody tr th {\n",
       "        vertical-align: top;\n",
       "    }\n",
       "\n",
       "    .dataframe thead th {\n",
       "        text-align: right;\n",
       "    }\n",
       "</style>\n",
       "<table border=\"1\" class=\"dataframe\">\n",
       "  <thead>\n",
       "    <tr style=\"text-align: right;\">\n",
       "      <th></th>\n",
       "      <th>Entertainer</th>\n",
       "      <th>Gender</th>\n",
       "      <th>Birth Year</th>\n",
       "      <th>Year of Hit Album</th>\n",
       "      <th>Album name</th>\n",
       "      <th>Year of first award</th>\n",
       "      <th>Year of last work</th>\n",
       "      <th>Year of Death</th>\n",
       "    </tr>\n",
       "  </thead>\n",
       "  <tbody>\n",
       "    <tr>\n",
       "      <th>0</th>\n",
       "      <td>Adele</td>\n",
       "      <td>F</td>\n",
       "      <td>1988</td>\n",
       "      <td>2008</td>\n",
       "      <td>19</td>\n",
       "      <td>2009.0</td>\n",
       "      <td>2016</td>\n",
       "      <td>NaN</td>\n",
       "    </tr>\n",
       "    <tr>\n",
       "      <th>1</th>\n",
       "      <td>Angelina Jolie</td>\n",
       "      <td>F</td>\n",
       "      <td>1975</td>\n",
       "      <td>1999</td>\n",
       "      <td>Girl, Interrupted</td>\n",
       "      <td>1999.0</td>\n",
       "      <td>2016</td>\n",
       "      <td>NaN</td>\n",
       "    </tr>\n",
       "    <tr>\n",
       "      <th>2</th>\n",
       "      <td>Aretha Franklin</td>\n",
       "      <td>F</td>\n",
       "      <td>1942</td>\n",
       "      <td>1967</td>\n",
       "      <td>I Never Loved a Man (The Way I Love You)</td>\n",
       "      <td>1968.0</td>\n",
       "      <td>2014</td>\n",
       "      <td>NaN</td>\n",
       "    </tr>\n",
       "    <tr>\n",
       "      <th>3</th>\n",
       "      <td>Bette Davis</td>\n",
       "      <td>F</td>\n",
       "      <td>1908</td>\n",
       "      <td>1934</td>\n",
       "      <td>Of Human Bondage</td>\n",
       "      <td>1935.0</td>\n",
       "      <td>1989</td>\n",
       "      <td>1989.0</td>\n",
       "    </tr>\n",
       "    <tr>\n",
       "      <th>4</th>\n",
       "      <td>Betty White</td>\n",
       "      <td>F</td>\n",
       "      <td>1922</td>\n",
       "      <td>1952</td>\n",
       "      <td>Life with Elilzabeth</td>\n",
       "      <td>1976.0</td>\n",
       "      <td>2016</td>\n",
       "      <td>NaN</td>\n",
       "    </tr>\n",
       "  </tbody>\n",
       "</table>\n",
       "</div>"
      ],
      "text/plain": [
       "       Entertainer Gender  Birth Year  Year of Hit Album  \\\n",
       "0            Adele      F        1988               2008   \n",
       "1   Angelina Jolie      F        1975               1999   \n",
       "2  Aretha Franklin      F        1942               1967   \n",
       "3      Bette Davis      F        1908               1934   \n",
       "4      Betty White      F        1922               1952   \n",
       "\n",
       "                                 Album name  Year of first award  \\\n",
       "0                                        19               2009.0   \n",
       "1                         Girl, Interrupted               1999.0   \n",
       "2  I Never Loved a Man (The Way I Love You)               1968.0   \n",
       "3                          Of Human Bondage               1935.0   \n",
       "4                      Life with Elilzabeth               1976.0   \n",
       "\n",
       "   Year of last work  Year of Death  \n",
       "0               2016            NaN  \n",
       "1               2016            NaN  \n",
       "2               2014            NaN  \n",
       "3               1989         1989.0  \n",
       "4               2016            NaN  "
      ]
     },
     "execution_count": 16,
     "metadata": {},
     "output_type": "execute_result"
    }
   ],
   "source": [
    "entertainer.head()"
   ]
  },
  {
   "cell_type": "markdown",
   "metadata": {},
   "source": [
    "Filled the na values with mode of the column as it is categorical data"
   ]
  },
  {
   "cell_type": "code",
   "execution_count": 17,
   "metadata": {},
   "outputs": [
    {
     "name": "stderr",
     "output_type": "stream",
     "text": [
      "C:\\Users\\hp\\AppData\\Local\\Temp\\ipykernel_11928\\355046008.py:1: FutureWarning: A value is trying to be set on a copy of a DataFrame or Series through chained assignment using an inplace method.\n",
      "The behavior will change in pandas 3.0. This inplace method will never work because the intermediate object on which we are setting values always behaves as a copy.\n",
      "\n",
      "For example, when doing 'df[col].method(value, inplace=True)', try using 'df.method({col: value}, inplace=True)' or df[col] = df[col].method(value) instead, to perform the operation inplace on the original object.\n",
      "\n",
      "\n",
      "  entertainer['Year of first award'].fillna(entertainer['Year of first award'].mode()[0], inplace= True)\n"
     ]
    }
   ],
   "source": [
    "entertainer['Year of first award'].fillna(entertainer['Year of first award'].mode()[0], inplace= True)"
   ]
  },
  {
   "cell_type": "markdown",
   "metadata": {},
   "source": [
    "Plot the graph of 'Year of Death' columns to find which value occurs most"
   ]
  },
  {
   "cell_type": "code",
   "execution_count": 18,
   "metadata": {},
   "outputs": [
    {
     "data": {
      "image/png": "[encoded data removed]",
      "text/plain": [
       "<Figure size 800x400 with 1 Axes>"
      ]
     },
     "metadata": {},
     "output_type": "display_data"
    }
   ],
   "source": [
    "plt.figure(figsize=(8,4))\n",
    "ax = sns.countplot(data = entertainer, x = 'Year of Death')\n",
    "plt.title('Year of Death')\n",
    "plt.xlabel('Year of Death')\n",
    "plt.ylabel('Count of Death')\n",
    "plt.xticks(rotation = 90)\n",
    "plt.show()"
   ]
  },
  {
   "cell_type": "code",
   "execution_count": 19,
   "metadata": {},
   "outputs": [
    {
     "name": "stderr",
     "output_type": "stream",
     "text": [
      "C:\\Users\\hp\\AppData\\Local\\Temp\\ipykernel_11928\\3544607460.py:1: FutureWarning: A value is trying to be set on a copy of a DataFrame or Series through chained assignment using an inplace method.\n",
      "The behavior will change in pandas 3.0. This inplace method will never work because the intermediate object on which we are setting values always behaves as a copy.\n",
      "\n",
      "For example, when doing 'df[col].method(value, inplace=True)', try using 'df.method({col: value}, inplace=True)' or df[col] = df[col].method(value) instead, to perform the operation inplace on the original object.\n",
      "\n",
      "\n",
      "  entertainer['Year of Death'].fillna(entertainer['Year of Death'].mode()[1], inplace= True)\n"
     ]
    }
   ],
   "source": [
    "entertainer['Year of Death'].fillna(entertainer['Year of Death'].mode()[1], inplace= True)"
   ]
  },
  {
   "cell_type": "markdown",
   "metadata": {},
   "source": [
    "As the first mode value is 1977 which is not possible for all the values that's why we use second most frequent value"
   ]
  },
  {
   "cell_type": "markdown",
   "metadata": {},
   "source": [
    "We the get age column to find other information"
   ]
  },
  {
   "cell_type": "code",
   "execution_count": 20,
   "metadata": {},
   "outputs": [],
   "source": [
    "entertainer['Age'] = entertainer['Year of Death'] - entertainer['Birth Year']"
   ]
  },
  {
   "cell_type": "code",
   "execution_count": 21,
   "metadata": {},
   "outputs": [
    {
     "data": {
      "text/html": [
       "<div>\n",
       "<style scoped>\n",
       "    .dataframe tbody tr th:only-of-type {\n",
       "        vertical-align: middle;\n",
       "    }\n",
       "\n",
       "    .dataframe tbody tr th {\n",
       "        vertical-align: top;\n",
       "    }\n",
       "\n",
       "    .dataframe thead th {\n",
       "        text-align: right;\n",
       "    }\n",
       "</style>\n",
       "<table border=\"1\" class=\"dataframe\">\n",
       "  <thead>\n",
       "    <tr style=\"text-align: right;\">\n",
       "      <th></th>\n",
       "      <th>Entertainer</th>\n",
       "      <th>Gender</th>\n",
       "      <th>Birth Year</th>\n",
       "      <th>Year of Hit Album</th>\n",
       "      <th>Album name</th>\n",
       "      <th>Year of first award</th>\n",
       "      <th>Year of last work</th>\n",
       "      <th>Year of Death</th>\n",
       "      <th>Age</th>\n",
       "    </tr>\n",
       "  </thead>\n",
       "  <tbody>\n",
       "    <tr>\n",
       "      <th>0</th>\n",
       "      <td>Adele</td>\n",
       "      <td>F</td>\n",
       "      <td>1988</td>\n",
       "      <td>2008</td>\n",
       "      <td>19</td>\n",
       "      <td>2009.0</td>\n",
       "      <td>2016</td>\n",
       "      <td>2016.0</td>\n",
       "      <td>28.0</td>\n",
       "    </tr>\n",
       "    <tr>\n",
       "      <th>1</th>\n",
       "      <td>Angelina Jolie</td>\n",
       "      <td>F</td>\n",
       "      <td>1975</td>\n",
       "      <td>1999</td>\n",
       "      <td>Girl, Interrupted</td>\n",
       "      <td>1999.0</td>\n",
       "      <td>2016</td>\n",
       "      <td>2016.0</td>\n",
       "      <td>41.0</td>\n",
       "    </tr>\n",
       "    <tr>\n",
       "      <th>2</th>\n",
       "      <td>Aretha Franklin</td>\n",
       "      <td>F</td>\n",
       "      <td>1942</td>\n",
       "      <td>1967</td>\n",
       "      <td>I Never Loved a Man (The Way I Love You)</td>\n",
       "      <td>1968.0</td>\n",
       "      <td>2014</td>\n",
       "      <td>2016.0</td>\n",
       "      <td>74.0</td>\n",
       "    </tr>\n",
       "    <tr>\n",
       "      <th>3</th>\n",
       "      <td>Bette Davis</td>\n",
       "      <td>F</td>\n",
       "      <td>1908</td>\n",
       "      <td>1934</td>\n",
       "      <td>Of Human Bondage</td>\n",
       "      <td>1935.0</td>\n",
       "      <td>1989</td>\n",
       "      <td>1989.0</td>\n",
       "      <td>81.0</td>\n",
       "    </tr>\n",
       "    <tr>\n",
       "      <th>4</th>\n",
       "      <td>Betty White</td>\n",
       "      <td>F</td>\n",
       "      <td>1922</td>\n",
       "      <td>1952</td>\n",
       "      <td>Life with Elilzabeth</td>\n",
       "      <td>1976.0</td>\n",
       "      <td>2016</td>\n",
       "      <td>2016.0</td>\n",
       "      <td>94.0</td>\n",
       "    </tr>\n",
       "  </tbody>\n",
       "</table>\n",
       "</div>"
      ],
      "text/plain": [
       "       Entertainer Gender  Birth Year  Year of Hit Album  \\\n",
       "0            Adele      F        1988               2008   \n",
       "1   Angelina Jolie      F        1975               1999   \n",
       "2  Aretha Franklin      F        1942               1967   \n",
       "3      Bette Davis      F        1908               1934   \n",
       "4      Betty White      F        1922               1952   \n",
       "\n",
       "                                 Album name  Year of first award  \\\n",
       "0                                        19               2009.0   \n",
       "1                         Girl, Interrupted               1999.0   \n",
       "2  I Never Loved a Man (The Way I Love You)               1968.0   \n",
       "3                          Of Human Bondage               1935.0   \n",
       "4                      Life with Elilzabeth               1976.0   \n",
       "\n",
       "   Year of last work  Year of Death   Age  \n",
       "0               2016         2016.0  28.0  \n",
       "1               2016         2016.0  41.0  \n",
       "2               2014         2016.0  74.0  \n",
       "3               1989         1989.0  81.0  \n",
       "4               2016         2016.0  94.0  "
      ]
     },
     "execution_count": 21,
     "metadata": {},
     "output_type": "execute_result"
    }
   ],
   "source": [
    "entertainer.head()"
   ]
  },
  {
   "cell_type": "markdown",
   "metadata": {},
   "source": [
    "we will convert the float64 value to int64 to avoid decimal points."
   ]
  },
  {
   "cell_type": "code",
   "execution_count": 22,
   "metadata": {},
   "outputs": [],
   "source": [
    "entertainer['Year of first award'] = entertainer['Year of first award'].astype('int64')"
   ]
  },
  {
   "cell_type": "code",
   "execution_count": 23,
   "metadata": {},
   "outputs": [],
   "source": [
    "entertainer['Year of Death'] = entertainer['Year of Death'].astype('int64')"
   ]
  },
  {
   "cell_type": "code",
   "execution_count": 24,
   "metadata": {},
   "outputs": [
    {
     "data": {
      "text/plain": [
       "(70, 9)"
      ]
     },
     "execution_count": 24,
     "metadata": {},
     "output_type": "execute_result"
    }
   ],
   "source": [
    "entertainer.shape"
   ]
  },
  {
   "cell_type": "code",
   "execution_count": 25,
   "metadata": {},
   "outputs": [
    {
     "data": {
      "text/html": [
       "<div>\n",
       "<style scoped>\n",
       "    .dataframe tbody tr th:only-of-type {\n",
       "        vertical-align: middle;\n",
       "    }\n",
       "\n",
       "    .dataframe tbody tr th {\n",
       "        vertical-align: top;\n",
       "    }\n",
       "\n",
       "    .dataframe thead th {\n",
       "        text-align: right;\n",
       "    }\n",
       "</style>\n",
       "<table border=\"1\" class=\"dataframe\">\n",
       "  <thead>\n",
       "    <tr style=\"text-align: right;\">\n",
       "      <th></th>\n",
       "      <th>Entertainer</th>\n",
       "      <th>Gender</th>\n",
       "      <th>Birth Year</th>\n",
       "      <th>Year of Hit Album</th>\n",
       "      <th>Album name</th>\n",
       "      <th>Year of first award</th>\n",
       "      <th>Year of last work</th>\n",
       "      <th>Year of Death</th>\n",
       "      <th>Age</th>\n",
       "    </tr>\n",
       "  </thead>\n",
       "  <tbody>\n",
       "    <tr>\n",
       "      <th>0</th>\n",
       "      <td>Adele</td>\n",
       "      <td>F</td>\n",
       "      <td>1988</td>\n",
       "      <td>2008</td>\n",
       "      <td>19</td>\n",
       "      <td>2009</td>\n",
       "      <td>2016</td>\n",
       "      <td>2016</td>\n",
       "      <td>28.0</td>\n",
       "    </tr>\n",
       "    <tr>\n",
       "      <th>1</th>\n",
       "      <td>Angelina Jolie</td>\n",
       "      <td>F</td>\n",
       "      <td>1975</td>\n",
       "      <td>1999</td>\n",
       "      <td>Girl, Interrupted</td>\n",
       "      <td>1999</td>\n",
       "      <td>2016</td>\n",
       "      <td>2016</td>\n",
       "      <td>41.0</td>\n",
       "    </tr>\n",
       "    <tr>\n",
       "      <th>2</th>\n",
       "      <td>Aretha Franklin</td>\n",
       "      <td>F</td>\n",
       "      <td>1942</td>\n",
       "      <td>1967</td>\n",
       "      <td>I Never Loved a Man (The Way I Love You)</td>\n",
       "      <td>1968</td>\n",
       "      <td>2014</td>\n",
       "      <td>2016</td>\n",
       "      <td>74.0</td>\n",
       "    </tr>\n",
       "    <tr>\n",
       "      <th>3</th>\n",
       "      <td>Bette Davis</td>\n",
       "      <td>F</td>\n",
       "      <td>1908</td>\n",
       "      <td>1934</td>\n",
       "      <td>Of Human Bondage</td>\n",
       "      <td>1935</td>\n",
       "      <td>1989</td>\n",
       "      <td>1989</td>\n",
       "      <td>81.0</td>\n",
       "    </tr>\n",
       "    <tr>\n",
       "      <th>4</th>\n",
       "      <td>Betty White</td>\n",
       "      <td>F</td>\n",
       "      <td>1922</td>\n",
       "      <td>1952</td>\n",
       "      <td>Life with Elilzabeth</td>\n",
       "      <td>1976</td>\n",
       "      <td>2016</td>\n",
       "      <td>2016</td>\n",
       "      <td>94.0</td>\n",
       "    </tr>\n",
       "  </tbody>\n",
       "</table>\n",
       "</div>"
      ],
      "text/plain": [
       "       Entertainer Gender  Birth Year  Year of Hit Album  \\\n",
       "0            Adele      F        1988               2008   \n",
       "1   Angelina Jolie      F        1975               1999   \n",
       "2  Aretha Franklin      F        1942               1967   \n",
       "3      Bette Davis      F        1908               1934   \n",
       "4      Betty White      F        1922               1952   \n",
       "\n",
       "                                 Album name  Year of first award  \\\n",
       "0                                        19                 2009   \n",
       "1                         Girl, Interrupted                 1999   \n",
       "2  I Never Loved a Man (The Way I Love You)                 1968   \n",
       "3                          Of Human Bondage                 1935   \n",
       "4                      Life with Elilzabeth                 1976   \n",
       "\n",
       "   Year of last work  Year of Death   Age  \n",
       "0               2016           2016  28.0  \n",
       "1               2016           2016  41.0  \n",
       "2               2014           2016  74.0  \n",
       "3               1989           1989  81.0  \n",
       "4               2016           2016  94.0  "
      ]
     },
     "execution_count": 25,
     "metadata": {},
     "output_type": "execute_result"
    }
   ],
   "source": [
    "entertainer.head()"
   ]
  },
  {
   "cell_type": "code",
   "execution_count": 26,
   "metadata": {},
   "outputs": [
    {
     "data": {
      "text/plain": [
       "Entertainer            0\n",
       "Gender                 0\n",
       "Birth Year             0\n",
       "Year of Hit Album      0\n",
       "Album name             0\n",
       "Year of first award    0\n",
       "Year of last work      0\n",
       "Year of Death          0\n",
       "Age                    0\n",
       "dtype: int64"
      ]
     },
     "execution_count": 26,
     "metadata": {},
     "output_type": "execute_result"
    }
   ],
   "source": [
    "entertainer.isna().sum()"
   ]
  },
  {
   "cell_type": "code",
   "execution_count": 27,
   "metadata": {},
   "outputs": [
    {
     "data": {
      "image/png": "[encoded data removed]",
      "text/plain": [
       "<Figure size 800x400 with 1 Axes>"
      ]
     },
     "metadata": {},
     "output_type": "display_data"
    }
   ],
   "source": [
    "plt.figure(figsize=(8,4))\n",
    "ax = sns.countplot(data = entertainer, x = 'Gender')\n",
    "plt.title('Gender Distribution')\n",
    "plt.xlabel('Gender')\n",
    "plt.ylabel('Count of Gender')\n",
    "plt.show()"
   ]
  },
  {
   "cell_type": "markdown",
   "metadata": {},
   "source": [
    "Male entertainers are more than female entertainers"
   ]
  },
  {
   "cell_type": "code",
   "execution_count": 28,
   "metadata": {},
   "outputs": [
    {
     "data": {
      "image/png": "[encoded data removed]",
      "text/plain": [
       "<Figure size 800x400 with 1 Axes>"
      ]
     },
     "metadata": {},
     "output_type": "display_data"
    }
   ],
   "source": [
    "plt.figure(figsize=(8,4))\n",
    "sns.countplot(data = entertainer, x = 'Year of Hit Album')\n",
    "plt.title('Year of Hit Album')\n",
    "plt.xlabel('Year of Hit Album')\n",
    "plt.ylabel('Count of Album')\n",
    "plt.xticks(rotation = 90)\n",
    "plt.show()"
   ]
  },
  {
   "cell_type": "markdown",
   "metadata": {},
   "source": [
    "As you can see, Most hit albums are in the year 1967 is '4' then 1984,1934 and 1963 with same values as '3' then so on."
   ]
  },
  {
   "cell_type": "code",
   "execution_count": 29,
   "metadata": {},
   "outputs": [
    {
     "data": {
      "image/png": "[encoded data removed]",
      "text/plain": [
       "<Figure size 800x400 with 1 Axes>"
      ]
     },
     "metadata": {},
     "output_type": "display_data"
    }
   ],
   "source": [
    "plt.figure(figsize=(8,4))\n",
    "ax = sns.countplot(data = entertainer, x = 'Year of first award')\n",
    "plt.title('Year of first award')\n",
    "plt.xlabel('Year of first award')\n",
    "plt.ylabel('Count of first award')\n",
    "plt.xticks(rotation = 90)\n",
    "plt.show()"
   ]
  },
  {
   "cell_type": "markdown",
   "metadata": {},
   "source": [
    "As you can see many entertainers got their first award in 1962"
   ]
  },
  {
   "cell_type": "code",
   "execution_count": 30,
   "metadata": {},
   "outputs": [
    {
     "data": {
      "image/png": "[encoded data removed]",
      "text/plain": [
       "<Figure size 800x400 with 1 Axes>"
      ]
     },
     "metadata": {},
     "output_type": "display_data"
    }
   ],
   "source": [
    "plt.figure(figsize=(8,4))\n",
    "ax = sns.countplot(data = entertainer, x = 'Year of last work')\n",
    "plt.title('Year of last work')\n",
    "plt.xlabel('Year of last work')\n",
    "plt.ylabel('Count of last work')\n",
    "plt.xticks(rotation = 90)\n",
    "plt.show()"
   ]
  },
  {
   "cell_type": "markdown",
   "metadata": {},
   "source": [
    "There are many entertainers who did last work in 2016."
   ]
  },
  {
   "cell_type": "code",
   "execution_count": 31,
   "metadata": {},
   "outputs": [
    {
     "data": {
      "image/png": "[encoded data removed]",
      "text/plain": [
       "<Figure size 800x400 with 1 Axes>"
      ]
     },
     "metadata": {},
     "output_type": "display_data"
    }
   ],
   "source": [
    "plt.figure(figsize=(8,4))\n",
    "ax = sns.countplot(data = entertainer, x = 'Age')\n",
    "plt.title('Age')\n",
    "plt.xlabel('Age')\n",
    "plt.ylabel('Age')\n",
    "plt.xticks(rotation = 90)\n",
    "plt.show()"
   ]
  },
  {
   "cell_type": "markdown",
   "metadata": {},
   "source": [
    "As you can see there are many entertainers of age 73,74,80 and 83"
   ]
  },
  {
   "cell_type": "markdown",
   "metadata": {},
   "source": [
    "Saved the file to visualize the data "
   ]
  },
  {
   "cell_type": "code",
   "execution_count": 32,
   "metadata": {},
   "outputs": [],
   "source": [
    "csv_file_path = 'E:\\\\Project_files\\\\entertainer.csv'\n",
    "entertainer.to_csv(csv_file_path, index=False)"
   ]
  },
  {
   "cell_type": "code",
   "execution_count": null,
   "metadata": {},
   "outputs": [],
   "source": []
  }
 ],
 "metadata": {
  "kernelspec": {
   "display_name": "Python 3",
   "language": "python",
   "name": "python3"
  },
  "language_info": {
   "codemirror_mode": {
    "name": "ipython",
    "version": 3
   },
   "file_extension": ".py",
   "mimetype": "text/x-python",
   "name": "python",
   "nbconvert_exporter": "python",
   "pygments_lexer": "ipython3",
   "version": "3.12.3"
  }
 },
 "nbformat": 4,
 "nbformat_minor": 2
}
